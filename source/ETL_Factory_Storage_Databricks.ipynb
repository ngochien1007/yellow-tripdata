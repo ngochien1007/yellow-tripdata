{
 "cells": [
  {
   "cell_type": "markdown",
   "metadata": {
    "application/vnd.databricks.v1+cell": {
     "cellMetadata": {},
     "inputWidgets": {},
     "nuid": "97cba1f7-fe81-4eb5-9646-1f0d699cfb45",
     "showTitle": false,
     "title": ""
    }
   },
   "source": [
    "##1. Create connect to blob storage for reading data ##"
   ]
  },
  {
   "cell_type": "code",
   "execution_count": 0,
   "metadata": {
    "application/vnd.databricks.v1+cell": {
     "cellMetadata": {
      "byteLimit": 2048000,
      "rowLimit": 10000
     },
     "inputWidgets": {},
     "nuid": "0f42e47f-71df-446a-80ca-df88d1306d3e",
     "showTitle": false,
     "title": ""
    }
   },
   "outputs": [],
   "source": [
    "service_credential = dbutils.secrets.get(scope=\"is402cloud-keyvault \",key=\"cloud-secret\")\n",
    "\n",
    "spark.conf.set(\"fs.azure.account.auth.type.is402storage.dfs.core.windows.net\", \"OAuth\")\n",
    "spark.conf.set(\"fs.azure.account.oauth.provider.type.is402storage.dfs.core.windows.net\", \"org.apache.hadoop.fs.azurebfs.oauth2.ClientCredsTokenProvider\")\n",
    "spark.conf.set(\"fs.azure.account.oauth2.client.id.is402storage.dfs.core.windows.net\", \"b1959452-d9a0-4f1e-bf3b-f4fd858011e1\")\n",
    "spark.conf.set(\"fs.azure.account.oauth2.client.secret.is402storage.dfs.core.windows.net\", service_credential)\n",
    "spark.conf.set(\"fs.azure.account.oauth2.client.endpoint.is402storage.dfs.core.windows.net\", \"https://login.microsoftonline.com/328cb62a-06ea-4cfb-b7bf-816691f80770/oauth2/token\")"
   ]
  },
  {
   "cell_type": "code",
   "execution_count": 0,
   "metadata": {
    "application/vnd.databricks.v1+cell": {
     "cellMetadata": {
      "byteLimit": 2048000,
      "rowLimit": 10000
     },
     "inputWidgets": {},
     "nuid": "a6fc7a01-764e-49e3-9f90-ce5e20a56f7c",
     "showTitle": false,
     "title": ""
    }
   },
   "outputs": [],
   "source": [
    "df1 = spark.read.format(\"csv\").option(\"header\", \"True\").option(\"inferSchema\", \"True\").load(\"abfss://output@is402storage.dfs.core.windows.net/taxi_partition_1.csv\")\n",
    "df2 = spark.read.format(\"csv\").option(\"header\", \"True\").option(\"inferSchema\", \"True\").load(\"abfss://output@is402storage.dfs.core.windows.net/taxi_partition_2.csv\")"
   ]
  },
  {
   "cell_type": "markdown",
   "metadata": {
    "application/vnd.databricks.v1+cell": {
     "cellMetadata": {},
     "inputWidgets": {},
     "nuid": "e0f8a0cc-bfeb-4e49-8683-0a829cc64182",
     "showTitle": false,
     "title": ""
    }
   },
   "source": [
    "##2. Create and Use Database \"taxi_database\" ##"
   ]
  },
  {
   "cell_type": "code",
   "execution_count": 0,
   "metadata": {
    "application/vnd.databricks.v1+cell": {
     "cellMetadata": {
      "byteLimit": 2048000,
      "implicitDf": true,
      "rowLimit": 10000
     },
     "inputWidgets": {},
     "nuid": "494a9410-a310-4217-a367-cb5257530f72",
     "showTitle": false,
     "title": ""
    }
   },
   "outputs": [],
   "source": [
    "%sql\n",
    "CREATE DATABASE IF NOT EXISTS taxi_database;\n",
    "USE taxi_database;"
   ]
  },
  {
   "cell_type": "markdown",
   "metadata": {
    "application/vnd.databricks.v1+cell": {
     "cellMetadata": {},
     "inputWidgets": {},
     "nuid": "f2df6dac-c074-45a2-843f-9c5b94ab79d9",
     "showTitle": false,
     "title": ""
    }
   },
   "source": [
    "##3. Create Bronze Table for Raw Data ##"
   ]
  },
  {
   "cell_type": "code",
   "execution_count": 0,
   "metadata": {
    "application/vnd.databricks.v1+cell": {
     "cellMetadata": {
      "byteLimit": 2048000,
      "implicitDf": true,
      "rowLimit": 10000
     },
     "inputWidgets": {},
     "nuid": "2678c8b3-17ba-4d82-b404-087e2d322105",
     "showTitle": false,
     "title": ""
    }
   },
   "outputs": [],
   "source": [
    "%sql\n",
    "CREATE TABLE IF NOT EXISTS taxi_bronze(\n",
    "  VENDORID INT,\n",
    "  TPEP_PICKUP_DATETIME TIMESTAMP,\n",
    "  TPEP_DROPOFF_DATETIME TIMESTAMP,\n",
    "  TRIP_DISTANCE FLOAT,\n",
    "  TOTAL_AMOUNT FLOAT\n",
    ")"
   ]
  },
  {
   "cell_type": "code",
   "execution_count": 0,
   "metadata": {
    "application/vnd.databricks.v1+cell": {
     "cellMetadata": {
      "byteLimit": 2048000,
      "rowLimit": 10000
     },
     "inputWidgets": {},
     "nuid": "ce59baaf-de8e-4a69-a875-bdb03cf5f380",
     "showTitle": false,
     "title": ""
    }
   },
   "outputs": [],
   "source": [
    "# Cast column trip_distacne type to float\n",
    "df1 = df1.withColumn(\"trip_distance\", df1.trip_distance.cast('float'))\n",
    "df2 = df2.withColumn(\"trip_distance\", df2.trip_distance.cast('float'))\n",
    "\n",
    "# Cast column total_amount type to float\n",
    "df1 = df1.withColumn(\"total_amount\", df1.total_amount.cast('float'))\n",
    "df2 = df2.withColumn(\"total_amount\", df2.total_amount.cast('float'))"
   ]
  },
  {
   "cell_type": "code",
   "execution_count": 0,
   "metadata": {
    "application/vnd.databricks.v1+cell": {
     "cellMetadata": {
      "byteLimit": 2048000,
      "rowLimit": 10000
     },
     "inputWidgets": {},
     "nuid": "4b99379c-cbcf-4500-bc18-80b506bf0a03",
     "showTitle": false,
     "title": ""
    }
   },
   "outputs": [],
   "source": [
    "# Write into table taxi_brone by df1\n",
    "df1.write.insertInto(\"taxi_bronze\")\n",
    "\n",
    "# Write into table taxi_brone by df2\n",
    "df2.write.insertInto(\"taxi_bronze\")"
   ]
  },
  {
   "cell_type": "code",
   "execution_count": 0,
   "metadata": {
    "application/vnd.databricks.v1+cell": {
     "cellMetadata": {
      "byteLimit": 2048000,
      "rowLimit": 10000
     },
     "inputWidgets": {},
     "nuid": "8d751ceb-ca2c-41cf-b7fe-037173b93b30",
     "showTitle": false,
     "title": ""
    }
   },
   "outputs": [],
   "source": [
    "# Order data by \"total_amount\"\n",
    "df_taxi_silver = spark.sql('''SELECT * \n",
    "                        FROM taxi_bronze\n",
    "                        ORDER BY total_amount ASC''')"
   ]
  },
  {
   "cell_type": "markdown",
   "metadata": {
    "application/vnd.databricks.v1+cell": {
     "cellMetadata": {},
     "inputWidgets": {},
     "nuid": "a8e2fd42-c121-43fd-960d-c76ca7beb401",
     "showTitle": false,
     "title": ""
    }
   },
   "source": [
    "##4. Create Silver Table for Processed Data ##"
   ]
  },
  {
   "cell_type": "code",
   "execution_count": 0,
   "metadata": {
    "application/vnd.databricks.v1+cell": {
     "cellMetadata": {
      "byteLimit": 2048000,
      "implicitDf": true,
      "rowLimit": 10000
     },
     "inputWidgets": {},
     "nuid": "4ae80d9f-529a-4c9e-848a-59332e39803a",
     "showTitle": false,
     "title": ""
    }
   },
   "outputs": [],
   "source": [
    "%sql\n",
    "CREATE TABLE IF NOT EXISTS taxi_silver(\n",
    "  VENDORID INT,\n",
    "  TPEP_PICKUP_DATETIME TIMESTAMP,\n",
    "  TPEP_DROPOFF_DATETIME TIMESTAMP,\n",
    "  TRIP_DISTANCE FLOAT,\n",
    "  TOTAL_AMOUNT FLOAT\n",
    ")"
   ]
  },
  {
   "cell_type": "code",
   "execution_count": 0,
   "metadata": {
    "application/vnd.databricks.v1+cell": {
     "cellMetadata": {
      "byteLimit": 2048000,
      "rowLimit": 10000
     },
     "inputWidgets": {},
     "nuid": "84d4ff04-6447-49c6-93ef-78abf2833a16",
     "showTitle": false,
     "title": ""
    }
   },
   "outputs": [],
   "source": [
    "df_taxi_silver.write.insertInto(\"taxi_silver\")"
   ]
  }
 ],
 "metadata": {
  "application/vnd.databricks.v1+notebook": {
   "dashboards": [],
   "language": "python",
   "notebookMetadata": {
    "mostRecentlyExecutedCommandWithImplicitDF": {
     "commandId": 3224776082062157,
     "dataframes": [
      "_sqldf"
     ]
    },
    "pythonIndentUnit": 4
   },
   "notebookName": "ETL_Factory_Storage_Databricks",
   "widgets": {}
  }
 },
 "nbformat": 4,
 "nbformat_minor": 0
}
