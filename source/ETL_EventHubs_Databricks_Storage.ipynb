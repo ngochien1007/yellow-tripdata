{
 "cells": [
  {
   "cell_type": "markdown",
   "metadata": {
    "application/vnd.databricks.v1+cell": {
     "cellMetadata": {},
     "inputWidgets": {},
     "nuid": "d35a4633-ad70-4093-947d-b65440c1404d",
     "showTitle": false,
     "title": ""
    }
   },
   "source": [
    "##1. Read Streaming Data, Define Schema for Streaming Data and Load into Silver Table ##"
   ]
  },
  {
   "cell_type": "code",
   "execution_count": 0,
   "metadata": {
    "application/vnd.databricks.v1+cell": {
     "cellMetadata": {
      "byteLimit": 2048000,
      "rowLimit": 10000
     },
     "inputWidgets": {},
     "nuid": "517422cc-7837-4e60-b910-e84ec4d23274",
     "showTitle": false,
     "title": ""
    }
   },
   "outputs": [],
   "source": [
    "# Databricks notebook source\n",
    "from pyspark.sql.types import *\n",
    "import pyspark.sql.functions as F\n",
    "from datetime import datetime as dt\n",
    "import json"
   ]
  },
  {
   "cell_type": "code",
   "execution_count": 0,
   "metadata": {
    "application/vnd.databricks.v1+cell": {
     "cellMetadata": {
      "byteLimit": 2048000,
      "rowLimit": 10000
     },
     "inputWidgets": {},
     "nuid": "10d5357f-9cfa-442a-8ea8-0417c662cb5c",
     "showTitle": false,
     "title": ""
    }
   },
   "outputs": [],
   "source": [
    "connectionString = \"Endpoint=sb://cloud-namespace.servicebus.windows.net/;SharedAccessKeyName=policy;SharedAccessKey=jFkGlYICLs65V/xKnC0mBg4D4UL+S/uVI+AEhB+83vw=;EntityPath=cloud-hub\"\n",
    "ehConf = {}\n",
    "startOffset = \"-1\"\n",
    "endTime = dt.now().strftime(\"%Y-%m-%dT%H:%M:%S.%fZ\")\n",
    "startingEventPosition = {\n",
    "    \"offset\": startOffset,\n",
    "    \"seqNo\": -1,  # not in use\n",
    "    \"enqueuedTime\": None,  # not in use\n",
    "    \"isInclusive\": True,\n",
    "}\n",
    "endingEventPosition = {\n",
    "    \"offset\": None,  # not in use\n",
    "    \"seqNo\": -1,  # not in use\n",
    "    \"enqueuedTime\": endTime,\n",
    "    \"isInclusive\": True,\n",
    "}\n",
    "ehConf[\"eventhubs.startingPosition\"] = json.dumps(startingEventPosition)\n",
    "ehConf[\"eventhubs.endingPosition\"] = json.dumps(endingEventPosition)\n",
    "\n",
    "ehConf[\n",
    "    \"eventhubs.connectionString\"\n",
    "] = sc._jvm.org.apache.spark.eventhubs.EventHubsUtils.encrypt(connectionString)\n",
    "ehConf[\"eventhubs.consumerGroup\"] = \"$Default\"\n",
    "\n",
    "json_schema = StructType(\n",
    "    [\n",
    "        StructField(\"VendorID\", IntegerType(), True),\n",
    "        StructField(\"tpep_pickup_datetime\", TimestampType(), True),\n",
    "        StructField(\"tpep_dropoff_datetime\", TimestampType(), True),\n",
    "        StructField(\"trip_distance\", FloatType(), True),\n",
    "        StructField(\"total_amount\", FloatType(), True),\n",
    "    ]\n",
    ")\n",
    "\n",
    "\n",
    "\n",
    "df = spark.readStream.format(\"eventhubs\").options(**ehConf).load()\n",
    "\n",
    "df = df.withColumn(\"body\", F.from_json(df.body.cast(\"string\"), json_schema))\n",
    "\n",
    "df = df.select(\n",
    "    F.col(\"body.VendorID\"), F.col(\"body.tpep_pickup_datetime\"), F.col(\"body.tpep_dropoff_datetime\"), F.col(\"body.trip_distance\"), F.col(\"body.total_amount\")\n",
    ")\n",
    "\n",
    "df = df.writeStream.format(\"delta\") \\\n",
    "\t\t    \t.outputMode(\"append\") \\\n",
    "            .option(\"path\",\"dbfs:/user/hive/warehouse/taxi_database.db/taxi_silver\") \\\n",
    "            .option(\"checkpointLocation\", \"/tmp/delta/_checkpoints/\")\\\n",
    "            .option(\"database\", \"taxi_database\") \\\n",
    "   \t\t\t.option(\"table\", \"taxi_silver\") \\\n",
    "\t\t\t.start()\n",
    "\n",
    "df.awaitTermination()"
   ]
  },
  {
   "cell_type": "markdown",
   "metadata": {
    "application/vnd.databricks.v1+cell": {
     "cellMetadata": {},
     "inputWidgets": {},
     "nuid": "a9b8e8fb-a763-4f98-baf8-c99101438116",
     "showTitle": false,
     "title": ""
    }
   },
   "source": [
    "##2. Create Gold Table in Database 'taxi_database' ##"
   ]
  },
  {
   "cell_type": "code",
   "execution_count": 0,
   "metadata": {
    "application/vnd.databricks.v1+cell": {
     "cellMetadata": {
      "byteLimit": 2048000,
      "implicitDf": true,
      "rowLimit": 10000
     },
     "inputWidgets": {},
     "nuid": "7634e98a-f43c-4f0e-b922-d6d31e31c649",
     "showTitle": false,
     "title": ""
    }
   },
   "outputs": [],
   "source": [
    "%sql\n",
    "USE taxi_database"
   ]
  },
  {
   "cell_type": "code",
   "execution_count": 0,
   "metadata": {
    "application/vnd.databricks.v1+cell": {
     "cellMetadata": {
      "byteLimit": 2048000,
      "implicitDf": true,
      "rowLimit": 10000
     },
     "inputWidgets": {},
     "nuid": "5ac34d92-205d-45f5-af8c-57fbd8e9aeed",
     "showTitle": false,
     "title": ""
    }
   },
   "outputs": [],
   "source": [
    "%sql\n",
    "CREATE TABLE IF NOT EXISTS taxi_gold(\n",
    "  VENDORID INT,\n",
    "  TPEP_PICKUP_DATETIME TIMESTAMP,\n",
    "  TPEP_DROPOFF_DATETIME TIMESTAMP,\n",
    "  TOTAL_AMOUNT FLOAT\n",
    ")"
   ]
  },
  {
   "cell_type": "markdown",
   "metadata": {
    "application/vnd.databricks.v1+cell": {
     "cellMetadata": {},
     "inputWidgets": {},
     "nuid": "6c8d479c-e6a9-48dd-b442-724d58ae25b5",
     "showTitle": false,
     "title": ""
    }
   },
   "source": [
    "##3. Filter Data to Load into Gold Table ##"
   ]
  },
  {
   "cell_type": "code",
   "execution_count": 0,
   "metadata": {
    "application/vnd.databricks.v1+cell": {
     "cellMetadata": {
      "byteLimit": 2048000,
      "rowLimit": 10000
     },
     "inputWidgets": {},
     "nuid": "3793899e-a4d2-457b-84a1-8002e01f16ae",
     "showTitle": false,
     "title": ""
    }
   },
   "outputs": [],
   "source": [
    "# Select necessary columns\n",
    "df_taxi_gold = spark.sql('''SELECT VENDORID, TPEP_PICKUP_DATETIME, TPEP_DROPOFF_DATETIME, TOTAL_AMOUNT\n",
    "                            FROM taxi_silver''')"
   ]
  },
  {
   "cell_type": "code",
   "execution_count": 0,
   "metadata": {
    "application/vnd.databricks.v1+cell": {
     "cellMetadata": {
      "byteLimit": 2048000,
      "rowLimit": 10000
     },
     "inputWidgets": {},
     "nuid": "61c674b9-f89e-44c3-a3d8-402b55d8936a",
     "showTitle": false,
     "title": ""
    }
   },
   "outputs": [],
   "source": [
    "# Write into table taxi_gold by df_taxi_gold\n",
    "df_taxi_gold.write.insertInto(\"taxi_gold\")"
   ]
  }
 ],
 "metadata": {
  "application/vnd.databricks.v1+notebook": {
   "dashboards": [],
   "language": "python",
   "notebookMetadata": {
    "mostRecentlyExecutedCommandWithImplicitDF": {
     "commandId": 1215130472625544,
     "dataframes": [
      "_sqldf"
     ]
    },
    "pythonIndentUnit": 4
   },
   "notebookName": "ETL_EventHubs_Databricks_Storage",
   "widgets": {}
  }
 },
 "nbformat": 4,
 "nbformat_minor": 0
}
